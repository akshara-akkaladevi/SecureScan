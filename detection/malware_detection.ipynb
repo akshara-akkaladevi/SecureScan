{
  "nbformat": 4,
  "nbformat_minor": 0,
  "metadata": {
    "kernelspec": {
      "language": "python",
      "display_name": "Python 3",
      "name": "python3"
    },
    "language_info": {
      "name": "python",
      "version": "3.7.10",
      "mimetype": "text/x-python",
      "codemirror_mode": {
        "name": "ipython",
        "version": 3
      },
      "pygments_lexer": "ipython3",
      "nbconvert_exporter": "python",
      "file_extension": ".py"
    },
    "colab": {
      "name": "malware-detection.ipynb",
      "provenance": [],
      "collapsed_sections": []
    }
  },
  "cells": [
    {
      "cell_type": "markdown",
      "metadata": {
        "id": "FJGc-kfIxlHQ"
      },
      "source": [
        "# Data Preprocessing"
      ]
    },
    {
      "cell_type": "code",
      "metadata": {
        "execution": {
          "iopub.status.busy": "2021-10-03T05:28:58.437347Z",
          "iopub.execute_input": "2021-10-03T05:28:58.437667Z",
          "iopub.status.idle": "2021-10-03T05:29:13.337383Z",
          "shell.execute_reply.started": "2021-10-03T05:28:58.437639Z",
          "shell.execute_reply": "2021-10-03T05:29:13.336188Z"
        },
        "trusted": true,
        "colab": {
          "base_uri": "https://localhost:8080/"
        },
        "id": "jejfpE6qxlHY",
        "outputId": "a92a6cb5-2da1-46a5-9a6a-29b62c6533e5"
      },
      "source": [
        "!pip install git+https://github.com/elastic/ember.git"
      ],
      "execution_count": null,
      "outputs": [
        {
          "output_type": "stream",
          "name": "stdout",
          "text": [
            "Collecting git+https://github.com/elastic/ember.git\n",
            "  Cloning https://github.com/elastic/ember.git to /tmp/pip-req-build-rgafisdm\n",
            "  Running command git clone -q https://github.com/elastic/ember.git /tmp/pip-req-build-rgafisdm\n",
            "Collecting lief>=0.9.0\n",
            "  Downloading lief-0.11.5-cp37-cp37m-manylinux_2_17_x86_64.manylinux2014_x86_64.whl (3.9 MB)\n",
            "\u001b[K     |████████████████████████████████| 3.9 MB 4.0 MB/s \n",
            "\u001b[?25hRequirement already satisfied: tqdm>=4.31.0 in /usr/local/lib/python3.7/dist-packages (from ember==0.1.0) (4.62.3)\n",
            "Requirement already satisfied: numpy>=1.16.3 in /usr/local/lib/python3.7/dist-packages (from ember==0.1.0) (1.19.5)\n",
            "Requirement already satisfied: pandas>=0.24.2 in /usr/local/lib/python3.7/dist-packages (from ember==0.1.0) (1.1.5)\n",
            "Requirement already satisfied: lightgbm>=2.2.3 in /usr/local/lib/python3.7/dist-packages (from ember==0.1.0) (2.2.3)\n",
            "Requirement already satisfied: scikit-learn>=0.20.3 in /usr/local/lib/python3.7/dist-packages (from ember==0.1.0) (0.22.2.post1)\n",
            "Requirement already satisfied: scipy in /usr/local/lib/python3.7/dist-packages (from lightgbm>=2.2.3->ember==0.1.0) (1.4.1)\n",
            "Requirement already satisfied: python-dateutil>=2.7.3 in /usr/local/lib/python3.7/dist-packages (from pandas>=0.24.2->ember==0.1.0) (2.8.2)\n",
            "Requirement already satisfied: pytz>=2017.2 in /usr/local/lib/python3.7/dist-packages (from pandas>=0.24.2->ember==0.1.0) (2018.9)\n",
            "Requirement already satisfied: six>=1.5 in /usr/local/lib/python3.7/dist-packages (from python-dateutil>=2.7.3->pandas>=0.24.2->ember==0.1.0) (1.15.0)\n",
            "Requirement already satisfied: joblib>=0.11 in /usr/local/lib/python3.7/dist-packages (from scikit-learn>=0.20.3->ember==0.1.0) (1.0.1)\n",
            "Building wheels for collected packages: ember\n",
            "  Building wheel for ember (setup.py) ... \u001b[?25l\u001b[?25hdone\n",
            "  Created wheel for ember: filename=ember-0.1.0-py3-none-any.whl size=12685 sha256=f9a88e8a0f38e77f077b24b2b8424c28e3a0d08e81c86e42a5b60018ad866c73\n",
            "  Stored in directory: /tmp/pip-ephem-wheel-cache-36n3dxme/wheels/0d/0c/d5/8bf798260ec4c5ab76e1cd3aef7489cd84fe1a4284ef80108b\n",
            "Successfully built ember\n",
            "Installing collected packages: lief, ember\n",
            "Successfully installed ember-0.1.0 lief-0.11.5\n"
          ]
        }
      ]
    },
    {
      "cell_type": "code",
      "metadata": {
        "colab": {
          "base_uri": "https://localhost:8080/"
        },
        "id": "qwIY7rYjx1iZ",
        "outputId": "00ba2b0a-f7ee-4411-fa50-e6e4a2e556be"
      },
      "source": [
        "from google.colab import drive\n",
        "drive.mount('/content/drive')"
      ],
      "execution_count": null,
      "outputs": [
        {
          "output_type": "stream",
          "name": "stdout",
          "text": [
            "Mounted at /content/drive\n"
          ]
        }
      ]
    },
    {
      "cell_type": "code",
      "metadata": {
        "_uuid": "8f2839f25d086af736a60e9eeb907d3b93b6e0e5",
        "_cell_guid": "b1076dfc-b9ad-4769-8c92-a6c4dae69d19",
        "execution": {
          "iopub.status.busy": "2021-10-03T05:29:13.340747Z",
          "iopub.execute_input": "2021-10-03T05:29:13.341084Z",
          "iopub.status.idle": "2021-10-03T05:29:21.185389Z",
          "shell.execute_reply.started": "2021-10-03T05:29:13.341042Z",
          "shell.execute_reply": "2021-10-03T05:29:21.184358Z"
        },
        "trusted": true,
        "id": "nH8C_SrHxlHc"
      },
      "source": [
        "import os\n",
        "import ember\n",
        "import numpy as np\n",
        "import sklearn\n",
        "import tensorflow as tf\n",
        "import matplotlib.pyplot as plt\n",
        "from tqdm import tqdm\n",
        "import pickle\n",
        "\n",
        "import keras\n",
        "from keras.models import Sequential\n",
        "from keras.layers import Dense, Dropout, Flatten, Embedding, Activation\n",
        "from keras.layers import Conv1D, MaxPooling1D, BatchNormalization\n",
        "from tensorflow.keras.optimizers import SGD, Adam\n",
        "from keras import regularizers\n",
        "\n",
        "from tensorflow.keras.utils import to_categorical\n",
        "from sklearn.preprocessing import StandardScaler"
      ],
      "execution_count": null,
      "outputs": []
    },
    {
      "cell_type": "code",
      "metadata": {
        "execution": {
          "iopub.status.busy": "2021-10-03T05:30:03.166306Z",
          "iopub.execute_input": "2021-10-03T05:30:03.167101Z",
          "iopub.status.idle": "2021-10-03T05:30:03.196246Z",
          "shell.execute_reply.started": "2021-10-03T05:30:03.167045Z",
          "shell.execute_reply": "2021-10-03T05:30:03.195223Z"
        },
        "trusted": true,
        "id": "LyVZ6_vqxlHd"
      },
      "source": [
        "def init_vectorized_features(dataset_dir: str):\n",
        "    \"\"\"\n",
        "    Required for the generation of '.dat' data files\n",
        "    :param dataset_dir: directory to the base location of the dataset\n",
        "    :return:\n",
        "    \"\"\"\n",
        "    try:\n",
        "        assert(os.path.exists(dataset_dir))\n",
        "\n",
        "        ember.create_vectorized_features(dataset_dir, 1, scale = 0.2)\n",
        "    except AssertionError:\n",
        "        raise Exception(\"[ASSERTION ERROR] The path to base directory of dataset provided does not exist\")\n",
        "\n",
        "\n",
        "def dat_to_train_test(dat_dir: str):\n",
        "    \"\"\"\n",
        "    Loading training & testing data from respective generated '.dat' files\n",
        "    :param dat_dir: directory to the base location where generated '.dat' files are found\n",
        "    :return:\n",
        "    \"\"\"\n",
        "    try:\n",
        "        assert('X_train.dat' in os.listdir(dat_dir))\n",
        "        assert('y_train.dat' in os.listdir(dat_dir))\n",
        "        assert ('X_test.dat' in os.listdir(dat_dir))\n",
        "        assert ('y_test.dat' in os.listdir(dat_dir))\n",
        "\n",
        "        x_train, y_train = ember.read_vectorized_features(dat_dir, subset=\"train\", feature_version= 1)\n",
        "        x_test, y_test = ember.read_vectorized_features(dat_dir, subset=\"test\", feature_version= 1)\n",
        "\n",
        "        return x_train, y_train, x_test, y_test\n",
        "    except AssertionError:\n",
        "        raise Exception(\"[ASSERTION ERROR] Ensure that the required '.dat' files are found within the specified directory\")\n",
        "\n",
        "\n",
        "def __dataset_generator(data: np.memmap, labels: np.memmap):\n",
        "    \"\"\"\n",
        "    Helper function for conversion from numpy.memmap to tf.data.Dataset\n",
        "    Create callable generator for tf.data.Dataset.from_generator()\n",
        "    :param data: numpy.memmap of training data\n",
        "    :param labels: numpy.memmap of labels corresponding to the training data\n",
        "    :return:\n",
        "    \"\"\"\n",
        "    # requires nothing to be passed to generator to avoid \"TypeError: 'generator' must be callable.\" error\n",
        "    def generator():\n",
        "        for instance, label in zip(data, labels):\n",
        "            yield instance, label\n",
        "    return generator\n"
      ],
      "execution_count": null,
      "outputs": []
    },
    {
      "cell_type": "markdown",
      "metadata": {
        "id": "IHZpmkHZxlHn"
      },
      "source": [
        "# Neural Network Based Malware Detection"
      ]
    },
    {
      "cell_type": "code",
      "metadata": {
        "execution": {
          "iopub.status.busy": "2021-10-03T05:30:08.737402Z",
          "iopub.execute_input": "2021-10-03T05:30:08.737737Z",
          "iopub.status.idle": "2021-10-03T05:30:08.760263Z",
          "shell.execute_reply.started": "2021-10-03T05:30:08.737707Z",
          "shell.execute_reply": "2021-10-03T05:30:08.759119Z"
        },
        "trusted": true,
        "id": "PrnQIz9HxlHo"
      },
      "source": [
        "class MalwareDetectionNN:\n",
        "    def __init__(self, num_attributes, num_classes):\n",
        "        \"\"\"\n",
        "        Constructor for Malware Detection Neural Network model\n",
        "        \"\"\"\n",
        "        weight_decay = 5e-4\n",
        "        regularizer = regularizers.l2(weight_decay)\n",
        "\n",
        "        self.__history = None\n",
        "        self.__model = Sequential()\n",
        "        self.__model.add(Conv1D(128, 64, strides=64, activation='relu', kernel_regularizer=regularizer, input_shape=(dim, 1)))\n",
        "        self.__model.add(BatchNormalization())\n",
        "        self.__model.add(Conv1D(128, 3, strides=2, kernel_regularizer=regularizer,activation='relu'))\n",
        "        self.__model.add(BatchNormalization())\n",
        "        self.__model.add(Flatten())\n",
        "        self.__model.add(Dense(256, kernel_regularizer=regularizer, activation='relu'))\n",
        "        self.__model.add(BatchNormalization())\n",
        "        self.__model.add(Dense(32, kernel_regularizer=regularizer, activation='relu'))\n",
        "        self.__model.add(BatchNormalization())\n",
        "        self.__model.add(Dense(num_classes, kernel_regularizer=regularizer, activation='softmax'))\n",
        "\n",
        "\n",
        "    def summary(self):\n",
        "        \"\"\"\n",
        "        Output overview of model structure and parameters\n",
        "        :return:\n",
        "        \"\"\"\n",
        "        self.__model.summary()\n",
        "\n",
        "\n",
        "    def __compile(self, learning_rate: float = 0.001, optimizer: tf.keras.optimizers = tf.keras.optimizers.Adam,\n",
        "                  loss_function: tf.keras.losses = tf.keras.losses.BinaryCrossentropy):\n",
        "        \"\"\"\n",
        "        Private method for compiling the model to be used within the training and testing methods of the\n",
        "        MalwareDetection model instances\n",
        "        :param learning_rate: Learning rate specified for the initialization of the optimizer\n",
        "        :param optimizer: Type of optimizer to be used to best suite the model training\n",
        "        :param loss_function: Type of loss function to best represent the desired output prediction type\n",
        "        :return:\n",
        "        \"\"\"\n",
        "        optimizer = Adam(learning_rate)\n",
        "        self.__model.compile(loss='categorical_crossentropy', optimizer=optimizer, metrics=['accuracy'])\n",
        "\n",
        "\n",
        "    def train(self, x_train, y_train, checkpoint_path, validation = None, epochs: int = 25, batch_size: int = 1000,\n",
        "              learning_rate: float = 0.001, optimizer: tf.keras.optimizers = tf.keras.optimizers.Adam,\n",
        "              loss_function: tf.keras.losses = tf.keras.losses.BinaryCrossentropy):\n",
        "        \"\"\"\n",
        "        Training function for Malware Detection Neural Network model\n",
        "        :param train_dataset: Dataset used to train the malware detection model\n",
        "        :param validation_dataset: Dataset for validation of the malware prediction model accuracy during training\n",
        "        :param epochs: number of epochs for training the detection model\n",
        "        :param learning_rate: Learning rate specified for the initialization of the optimizer\n",
        "        :param optimizer: Type of optimizer to be used to best suite the model training\n",
        "        :param loss_function: Type of loss function to best represent the desired output prediction type\n",
        "        :return:\n",
        "        \"\"\"\n",
        "        callbacks = [tf.keras.callbacks.ModelCheckpoint(checkpoint_path, monitor='val_accuracy',\n",
        "                             verbose=1,\n",
        "                             save_best_only=True), ]\n",
        "\n",
        "        self.__compile(learning_rate, optimizer, loss_function)\n",
        "        if validation is None:\n",
        "            self.__history = self.__model.fit(x_train, y_train,\n",
        "                                              epochs=epochs,\n",
        "                                              batch_size=batch_size,\n",
        "                                              callbacks=callbacks)\n",
        "        else:\n",
        "            self.__history = self.__model.fit(x_train, y_train,\n",
        "                                              validation_data=validation,\n",
        "                                              batch_size=batch_size,\n",
        "                                              epochs=epochs,\n",
        "                                              callbacks=callbacks)\n",
        "\n",
        "        self.__plot_training_performance()\n",
        "\n",
        "\n",
        "    def __plot_training_performance(self):\n",
        "        \"\"\"\n",
        "        Private function to be run after training in order to visualize the accuracy behaviour of the training on the\n",
        "        train and validation subsets of training dataset\n",
        "        :return:\n",
        "        \"\"\"\n",
        "        plt.plot(self.__history.history['accuracy'], label='training accuracy')\n",
        "        # plt.plot(self.__history.history['val_accuracy'], label='validation accuracy')\n",
        "        plt.xlabel(\"Epoch\")\n",
        "        plt.ylabel('Accuracy')\n",
        "        plt.legend(loc='lower right')\n",
        "        plt.show()"
      ],
      "execution_count": null,
      "outputs": []
    },
    {
      "cell_type": "markdown",
      "metadata": {
        "id": "V4f1gTrdLLfr"
      },
      "source": [
        "# Utils"
      ]
    },
    {
      "cell_type": "code",
      "metadata": {
        "id": "ok5ztuIFLseI"
      },
      "source": [
        "def save(path, val):\n",
        "  with open(path, 'wb') as file:\n",
        "      \n",
        "    # A new file will be created\n",
        "    pickle.dump(val, file, protocol=4)\n",
        "\n",
        "def load(path):\n",
        "  with open(path, 'rb') as file:\n",
        "      \n",
        "    # Call load method to deserialze\n",
        "    return pickle.load(file)"
      ],
      "execution_count": null,
      "outputs": []
    },
    {
      "cell_type": "markdown",
      "metadata": {
        "id": "glVCnIHKtT7s"
      },
      "source": [
        "# PE files\n",
        "\n",
        "The Portable Executable format is a file format for executables, object code, DLLs and others used in Windows operating systems."
      ]
    },
    {
      "cell_type": "markdown",
      "metadata": {
        "id": "4mkKfHynt8l8"
      },
      "source": [
        "# Ember Dataset\n",
        "\n",
        "The EMBER dataset is a collection of features from PE files that serve as a benchmark dataset for researchers. The EMBER2017 dataset contained features from 1.1 million PE files scanned in or before 2017. <br>\n",
        "\n",
        "It consists of a collection of JSON lines\n",
        "files, where each line contains a single JSON object. Each\n",
        "object includes the following labels:\n",
        "\n",
        "0 -> Benign <br>\n",
        "1 -> Malignant <br>\n",
        "-1 -> Unlabelled"
      ]
    },
    {
      "cell_type": "markdown",
      "metadata": {
        "id": "lI3Frcmxk4_M"
      },
      "source": [
        "# Steps\n",
        "\n",
        "\n",
        "1. Convert features into dataset\n",
        "2. Split to train test\n",
        "3. Vectorize the labels\n",
        "4. Validation Split\n",
        "5. Normalize it\n",
        "6. Expand the dimensions\n",
        "7. Build the model\n",
        "8. Train the model\n",
        "9. Test the model\n",
        "10. Save the model\n",
        "\n",
        "\n",
        "\n"
      ]
    },
    {
      "cell_type": "markdown",
      "metadata": {
        "id": "Ve1qABBLyn80"
      },
      "source": [
        "## The model gives an accuracy of **97.6%** on test data"
      ]
    },
    {
      "cell_type": "markdown",
      "metadata": {
        "id": "C3dsb6F8MaJn"
      },
      "source": [
        "# Run "
      ]
    },
    {
      "cell_type": "code",
      "metadata": {
        "execution": {
          "iopub.status.busy": "2021-10-03T05:56:36.661470Z",
          "iopub.execute_input": "2021-10-03T05:56:36.662442Z",
          "iopub.status.idle": "2021-10-03T05:56:36.668773Z",
          "shell.execute_reply.started": "2021-10-03T05:56:36.662393Z",
          "shell.execute_reply": "2021-10-03T05:56:36.667702Z"
        },
        "trusted": true,
        "id": "qCaUiYyNMWiO"
      },
      "source": [
        "FILTERED_DATASET_SIZES = 600000\n",
        "\n",
        "BATCH_SIZE = 32\n",
        "EPOCHS = 5\n",
        "num_classes = 2\n",
        "split = 0.85\n",
        "\n",
        "DATA_DIR = '/content/drive/MyDrive/ember_dataset/ember'\n",
        "PCA_PATH = '/content/drive/MyDrive/pca_dump.pkl'\n",
        "NOR_PATH = '/content/drive/MyDrive/nor_dump.pkl'\n",
        "SCALER_PATH = '/content/drive/MyDrive/scaler_dump.pkl'\n",
        "CHK_PATH = '/content/drive/MyDrive/Checkpoints/Save_at_{epoch}.h5'"
      ],
      "execution_count": null,
      "outputs": []
    },
    {
      "cell_type": "markdown",
      "metadata": {
        "id": "TzuUynIKtqL8"
      },
      "source": [
        "# Feature extraction\n",
        "\n",
        "Raw features are extracted to JSON format and included in the publicly available dataset. Vectorized features can be produced from these raw features and saved in binary format from which they can be converted to CSV, dataframe, or any other format"
      ]
    },
    {
      "cell_type": "code",
      "metadata": {
        "execution": {
          "iopub.status.busy": "2021-10-03T05:56:39.440914Z",
          "iopub.execute_input": "2021-10-03T05:56:39.442050Z"
        },
        "trusted": true,
        "id": "onTbsPuBxlHw"
      },
      "source": [
        "init_vectorized_features(DATA_DIR)"
      ],
      "execution_count": null,
      "outputs": []
    },
    {
      "cell_type": "code",
      "metadata": {
        "id": "Rm-SiF77n5cc",
        "colab": {
          "base_uri": "https://localhost:8080/"
        },
        "outputId": "7ef5dec4-9f00-4491-8afc-9933ad6d8ade"
      },
      "source": [
        "X_train, Y_train, x_test, y_test = dat_to_train_test(DATA_DIR)"
      ],
      "execution_count": null,
      "outputs": [
        {
          "output_type": "stream",
          "name": "stdout",
          "text": [
            "WARNING: EMBER feature version 1 were computed using lief version 0.8.3-18d5b75\n",
            "WARNING:   lief version 0.11.5-37bc2c9 found instead. There may be slight inconsistencies\n",
            "WARNING:   in the feature calculations.\n",
            "WARNING: EMBER feature version 1 were computed using lief version 0.8.3-18d5b75\n",
            "WARNING:   lief version 0.11.5-37bc2c9 found instead. There may be slight inconsistencies\n",
            "WARNING:   in the feature calculations.\n"
          ]
        }
      ]
    },
    {
      "cell_type": "markdown",
      "metadata": {
        "id": "ZhEWWWlnvjZR"
      },
      "source": [
        "Remove the unlabelled items"
      ]
    },
    {
      "cell_type": "code",
      "metadata": {
        "id": "nWvpxY95yIlD"
      },
      "source": [
        "X_train = X_train[Y_train != -1]\n",
        "Y_train = Y_train[Y_train != -1]"
      ],
      "execution_count": null,
      "outputs": []
    },
    {
      "cell_type": "markdown",
      "metadata": {
        "id": "lj9OEp89vpQq"
      },
      "source": [
        "Shuffle the dataset"
      ]
    },
    {
      "cell_type": "code",
      "metadata": {
        "id": "1A7UeGeIeTWO"
      },
      "source": [
        "indices = np.arange(X_train.shape[0])\n",
        "np.random.shuffle(indices)\n",
        "X_train = X_train[indices]\n",
        "Y_train = Y_train[indices]"
      ],
      "execution_count": null,
      "outputs": []
    },
    {
      "cell_type": "markdown",
      "metadata": {
        "id": "fmjBwHtYvrkA"
      },
      "source": [
        "Split into train and valididation sets"
      ]
    },
    {
      "cell_type": "code",
      "metadata": {
        "id": "2GYuFB98cqkg"
      },
      "source": [
        "idx = int(split * X_train.shape[0])\n",
        "X_val, Y_val = X_train[idx:], Y_train[idx:]\n",
        "X_train, Y_train = X_train[:idx], Y_train[:idx]"
      ],
      "execution_count": null,
      "outputs": []
    },
    {
      "cell_type": "markdown",
      "metadata": {
        "id": "1Dw_HiLsvu89"
      },
      "source": [
        "Converts integer labels to binary class matrix: <br>\n",
        "[0 1] -> Malignant<br>\n",
        "[1 0] -> Benign"
      ]
    },
    {
      "cell_type": "code",
      "metadata": {
        "id": "bje2URQ7dX7F"
      },
      "source": [
        "Y_train = to_categorical(Y_train, num_classes=num_classes)\n",
        "Y_val = to_categorical(Y_val, num_classes=num_classes)"
      ],
      "execution_count": null,
      "outputs": []
    },
    {
      "cell_type": "markdown",
      "metadata": {
        "id": "pSvohGJ6wQE4"
      },
      "source": [
        "Reduce the dataset size"
      ]
    },
    {
      "cell_type": "code",
      "metadata": {
        "id": "y11feNGTgoDt"
      },
      "source": [
        "idx = int((0.25) * X_val.shape[0])\n",
        "X_val, Y_val = X_val[:idx], Y_val[:idx]"
      ],
      "execution_count": null,
      "outputs": []
    },
    {
      "cell_type": "markdown",
      "metadata": {
        "id": "rBJ9wm_TwS-8"
      },
      "source": [
        "Normalize the dataset"
      ]
    },
    {
      "cell_type": "code",
      "metadata": {
        "id": "v-IsQW5wWuDF"
      },
      "source": [
        "scaler = StandardScaler()\n",
        "scaler.fit(X_train)\n",
        "X_train = scaler.transform(X_train)\n",
        "X_val = scaler.transform(X_val)\n",
        "save(SCALER_PATH, scaler) "
      ],
      "execution_count": null,
      "outputs": []
    },
    {
      "cell_type": "code",
      "metadata": {
        "id": "d93jFDxSe8WN"
      },
      "source": [
        "save(NOR_PATH, [X_train, Y_train, X_val, Y_val])"
      ],
      "execution_count": null,
      "outputs": []
    },
    {
      "cell_type": "markdown",
      "metadata": {
        "id": "htxaoD8Cwbja"
      },
      "source": [
        "Add an extra dimension as the model expects a 3D input."
      ]
    },
    {
      "cell_type": "code",
      "metadata": {
        "id": "I2tROt7ZdwVD"
      },
      "source": [
        "X_train = np.expand_dims(X_train, axis=-1)\n",
        "X_val = np.expand_dims(X_val, axis=-1) "
      ],
      "execution_count": null,
      "outputs": []
    },
    {
      "cell_type": "markdown",
      "metadata": {
        "id": "7rdvcp3WxqF3"
      },
      "source": [
        "Create the model"
      ]
    },
    {
      "cell_type": "code",
      "metadata": {
        "id": "L_GxiffQoO_n"
      },
      "source": [
        "# Create the instance of the MalwareDetection model\n",
        "dim = X_train.shape[1]\n",
        "model = MalwareDetectionNN(len(X_train[1]), num_classes)\n",
        "model.summary()"
      ],
      "execution_count": null,
      "outputs": []
    },
    {
      "cell_type": "markdown",
      "metadata": {
        "id": "pOxn86RYyWzS"
      },
      "source": [
        "Train the model"
      ]
    },
    {
      "cell_type": "code",
      "metadata": {
        "colab": {
          "base_uri": "https://localhost:8080/",
          "height": 650
        },
        "id": "qZQ_sqUDxlHy",
        "outputId": "6c5bbc72-7d2b-4d29-9d35-2f35b84595b4"
      },
      "source": [
        "model.train(X_train, Y_train, CHK_PATH,\n",
        "                (X_val, Y_val),\n",
        "                batch_size= BATCH_SIZE,\n",
        "                epochs=EPOCHS,\n",
        "                optimizer=tf.keras.optimizers.Adam,\n",
        "                learning_rate=0.001)"
      ],
      "execution_count": null,
      "outputs": [
        {
          "output_type": "stream",
          "name": "stdout",
          "text": [
            "Epoch 1/5\n",
            "3985/3985 [==============================] - 556s 139ms/step - loss: 0.2688 - accuracy: 0.9575 - val_loss: 0.1908 - val_accuracy: 0.9733\n",
            "\n",
            "Epoch 00001: val_accuracy improved from -inf to 0.97329, saving model to /content/drive/MyDrive/Checkpoints/Save_at_1.h5\n",
            "Epoch 2/5\n",
            "3985/3985 [==============================] - 593s 149ms/step - loss: 0.1864 - accuracy: 0.9684 - val_loss: 0.1950 - val_accuracy: 0.9724\n",
            "\n",
            "Epoch 00002: val_accuracy did not improve from 0.97329\n",
            "Epoch 3/5\n",
            "3985/3985 [==============================] - 597s 150ms/step - loss: 0.1727 - accuracy: 0.9716 - val_loss: 0.1734 - val_accuracy: 0.9755\n",
            "\n",
            "Epoch 00003: val_accuracy improved from 0.97329 to 0.97547, saving model to /content/drive/MyDrive/Checkpoints/Save_at_3.h5\n",
            "Epoch 4/5\n",
            "3985/3985 [==============================] - 564s 142ms/step - loss: 0.1597 - accuracy: 0.9741 - val_loss: 0.1476 - val_accuracy: 0.9786\n",
            "\n",
            "Epoch 00004: val_accuracy improved from 0.97547 to 0.97858, saving model to /content/drive/MyDrive/Checkpoints/Save_at_4.h5\n",
            "Epoch 5/5\n",
            "3985/3985 [==============================] - 606s 152ms/step - loss: 0.1433 - accuracy: 0.9753 - val_loss: 0.1540 - val_accuracy: 0.9775\n",
            "\n",
            "Epoch 00005: val_accuracy did not improve from 0.97858\n"
          ]
        },
        {
          "output_type": "display_data",
          "data": {
            "image/png": "[encoded data removed]",
            "text/plain": [
              "<Figure size 432x288 with 1 Axes>"
            ]
          },
          "metadata": {
            "needs_background": "light"
          }
        }
      ]
    },
    {
      "cell_type": "markdown",
      "metadata": {
        "id": "MQiIhsYpyeJk"
      },
      "source": [
        "Run the model on the test dataset"
      ]
    },
    {
      "cell_type": "code",
      "metadata": {
        "id": "tLxH7cCcoArn"
      },
      "source": [
        "X_test = x_test[y_test != -1]\n",
        "y_test = y_test[y_test != -1]"
      ],
      "execution_count": null,
      "outputs": []
    },
    {
      "cell_type": "code",
      "metadata": {
        "id": "qRDsmvr72pXQ"
      },
      "source": [
        "y_test = to_categorical(y_test, num_classes=num_classes)\n",
        "X_test = scaler.transform(X_test)"
      ],
      "execution_count": null,
      "outputs": []
    },
    {
      "cell_type": "code",
      "metadata": {
        "id": "91kPJpmE3_KQ"
      },
      "source": [
        "X_test = np.expand_dims(X_test, axis=-1)"
      ],
      "execution_count": null,
      "outputs": []
    },
    {
      "cell_type": "code",
      "metadata": {
        "id": "arY5lWs-PZ2H",
        "colab": {
          "base_uri": "https://localhost:8080/"
        },
        "outputId": "70f1bf22-73a6-4435-bb9f-f86cef47d637"
      },
      "source": [
        "model = keras.models.load_model(\"/content/drive/MyDrive/Checkpoints/Save_at_4.h5\")\n",
        "test_loss, test_acc = model.evaluate(X_test, y_test, verbose=1)\n",
        "\n",
        "print(test_loss)\n",
        "print(test_acc)"
      ],
      "execution_count": null,
      "outputs": [
        {
          "output_type": "stream",
          "name": "stdout",
          "text": [
            "6250/6250 [==============================] - 35s 6ms/step - loss: 0.1675 - accuracy: 0.9765\n",
            "0.16750022768974304\n",
            "0.976485013961792\n"
          ]
        }
      ]
    },
    {
      "cell_type": "code",
      "metadata": {
        "colab": {
          "base_uri": "https://localhost:8080/"
        },
        "id": "9R6boNceYfpy",
        "outputId": "780b6ac6-55de-4ed6-a2df-5996a390f800"
      },
      "source": [
        "x_train.shape"
      ],
      "execution_count": null,
      "outputs": [
        {
          "output_type": "execute_result",
          "data": {
            "text/plain": [
              "(900000, 2351)"
            ]
          },
          "metadata": {},
          "execution_count": 5
        }
      ]
    },
    {
      "cell_type": "code",
      "metadata": {
        "id": "fUmEA_ud0q8x"
      },
      "source": [
        ""
      ],
      "execution_count": null,
      "outputs": []
    },
    {
      "cell_type": "code",
      "metadata": {
        "id": "V7bjuFXW0q6f"
      },
      "source": [
        ""
      ],
      "execution_count": null,
      "outputs": []
    },
    {
      "cell_type": "code",
      "metadata": {
        "id": "ZYak_GIX0q3u"
      },
      "source": [
        ""
      ],
      "execution_count": null,
      "outputs": []
    },
    {
      "cell_type": "code",
      "metadata": {
        "id": "rX03ZAMt0q1i"
      },
      "source": [
        ""
      ],
      "execution_count": null,
      "outputs": []
    },
    {
      "cell_type": "code",
      "metadata": {
        "id": "5fQqcHl50qxs"
      },
      "source": [
        ""
      ],
      "execution_count": null,
      "outputs": []
    },
    {
      "cell_type": "code",
      "metadata": {
        "id": "N5044r3o0qnA"
      },
      "source": [
        ""
      ],
      "execution_count": null,
      "outputs": []
    }
  ]
}